{
  "nbformat": 4,
  "nbformat_minor": 0,
  "metadata": {
    "colab": {
      "provenance": [],
      "mount_file_id": "1oyl9ENQy55UcXIiCce8DcV1eBuF28t55",
      "authorship_tag": "ABX9TyPnQ23vJhcaTjyPGuIjGJpU",
      "include_colab_link": true
    },
    "kernelspec": {
      "name": "python3",
      "display_name": "Python 3"
    },
    "language_info": {
      "name": "python"
    }
  },
  "cells": [
    {
      "cell_type": "markdown",
      "metadata": {
        "id": "view-in-github",
        "colab_type": "text"
      },
      "source": [
        "<a href=\"https://colab.research.google.com/github/RahulArra/Machine-Learning/blob/main/Ensemble_learning.ipynb\" target=\"_parent\"><img src=\"https://colab.research.google.com/assets/colab-badge.svg\" alt=\"Open In Colab\"/></a>"
      ]
    },
    {
      "cell_type": "code",
      "execution_count": 23,
      "metadata": {
        "colab": {
          "base_uri": "https://localhost:8080/"
        },
        "id": "LoJoWEnjRgtu",
        "outputId": "145d66ed-e56e-4184-b6d1-ea4cb611c8fe"
      },
      "outputs": [
        {
          "output_type": "stream",
          "name": "stdout",
          "text": [
            "Hard Voting Score  1\n",
            "Softard Voting Score  1\n"
          ]
        }
      ],
      "source": [
        "from sklearn.datasets import load_iris\n",
        "from sklearn.model_selection import train_test_split\n",
        "from sklearn.linear_model import LogisticRegression\n",
        "from sklearn.svm import SVC\n",
        "from sklearn.tree import DecisionTreeClassifier\n",
        "from sklearn.ensemble import VotingClassifier\n",
        "\n",
        "# For evaluating the model\n",
        "from sklearn.metrics import accuracy_score\n",
        "# loading iris dataset\n",
        "iris = load_iris()\n",
        "X = iris.data[:, :4]\n",
        "Y = iris.target\n",
        "X_train, X_test, y_train, y_test = train_test_split(X,Y,test_size = 0.20,random_state = 42)\n",
        "estimator = []\n",
        "estimator.append(('LR', LogisticRegression(solver='lbfgs', max_iter=100)))\n",
        "estimator.append(('SVC', SVC(gamma ='auto', probability = True)))\n",
        "estimator.append(('DTC', DecisionTreeClassifier(max_depth=1, criterion='entropy', random_state=42)))\n",
        "\n",
        "# Voting Classifier with hard voting\n",
        "hard_voting = VotingClassifier(estimators = estimator, voting ='hard')\n",
        "soft_voting = VotingClassifier(estimators = estimator, voting ='soft')\n",
        "hard_voting.fit(X_train, y_train)\n",
        "soft_voting.fit(X_train, y_train)\n",
        "y_pred = hard_voting.predict(X_test)\n",
        "y_pred1 = soft_voting.predict(X_test)\n",
        "# accuracy_score metric to predict Accuracy\n",
        "score = accuracy_score(y_test, y_pred)\n",
        "score1= accuracy_score(y_test,y_pred1)\n",
        "print(\"Hard Voting Score % d\" % score)\n",
        "print(\"Softard Voting Score % d\" % score1)\n",
        "\n"
      ]
    },
    {
      "cell_type": "markdown",
      "source": [
        "no change in o/p with change in max_iter in LogisticRegression\n",
        "and when change in max_dpth in decision tree"
      ],
      "metadata": {
        "id": "RC0HyUEiXsHp"
      }
    },
    {
      "cell_type": "code",
      "source": [
        "#  WHY ADV ENSEMBLE LEANRNING TECH:\n",
        "# 1. They Prevent Overfitting and Generalize Better\n",
        "# 2. They Are More Stable and Robust\n",
        "# 3. They Combine Different Strengths\n"
      ],
      "metadata": {
        "id": "1CNy_sK7ZIbB"
      },
      "execution_count": 18,
      "outputs": []
    },
    {
      "cell_type": "code",
      "source": [
        "#RANDOMFORESTCLASSIFER(bagging)\n",
        "from sklearn.ensemble import RandomForestClassifier\n",
        "from sklearn.datasets import make_classification\n",
        "from sklearn.model_selection import train_test_split\n",
        "\n",
        "# Generate a synthetic dataset\n",
        "X, y = make_classification(n_samples=1000, n_features=100, n_informative=5, n_redundant=0, random_state=50)\n",
        "\n",
        "# Split the data into training and test sets\n",
        "X_train, X_test, y_train, y_test = train_test_split(X, y, test_size=0.2, random_state=0)\n",
        "\n",
        "# Build a random forest classifier with 100 trees\n",
        "clf = RandomForestClassifier(n_estimators=100, random_state=0)\n",
        "\n",
        "# Train the classifier on the training data\n",
        "clf.fit(X_train, y_train)\n",
        "\n",
        "# Make predictions on the test data\n",
        "y_pred = clf.predict(X_test)\n",
        "\n",
        "# Evaluate the performance of the classifier\n",
        "accuracy = clf.score(X_test, y_test)\n",
        "print(\"Accuracy: %.2f\" % accuracy)\n"
      ],
      "metadata": {
        "colab": {
          "base_uri": "https://localhost:8080/"
        },
        "id": "PcWLR2NYX0a5",
        "outputId": "0abf79b1-a3ee-4847-8afa-9cdb2484ee4b"
      },
      "execution_count": 51,
      "outputs": [
        {
          "output_type": "stream",
          "name": "stdout",
          "text": [
            "Accuracy: 0.93\n"
          ]
        }
      ]
    },
    {
      "cell_type": "code",
      "source": [
        "#decrease iun smaple leading t ess acuracy\n",
        "#increase in n_informative is dec the acc\n",
        "#change in random_state is affecting"
      ],
      "metadata": {
        "id": "zxelWxyaa1UR"
      },
      "execution_count": null,
      "outputs": []
    },
    {
      "cell_type": "code",
      "source": [
        "import numpy as np\n",
        "import matplotlib.pyplot as plt\n",
        "from sklearn.datasets import make_classification\n",
        "from sklearn.model_selection import train_test_split\n",
        "from sklearn.tree import DecisionTreeClassifier\n",
        "from sklearn.ensemble import RandomForestClassifier\n",
        "from sklearn.metrics import classification_report, accuracy_score\n",
        "\n",
        "# We make it non-trivial so the ensemble has a chance to shine.\n",
        "X, y = make_classification(\n",
        "    n_samples=1000,\n",
        "    n_features=50,\n",
        "    n_informative=15, # Only 15 of the 50 features are useful\n",
        "    n_redundant=5,\n",
        "    n_classes=2,\n",
        "    random_state=42\n",
        ")\n",
        "\n",
        "# 2. Split the data into training and testing sets\n",
        "X_train, X_test, y_train, y_test = train_test_split(X, y, test_size=0.25, random_state=42)\n",
        "\n",
        "\n",
        "\n",
        "print(\"--- Comparing Single Decision Tree vs. Random Forest ---\")\n",
        "\n",
        "# a. Train a single Decision Tree Classifier\n",
        "dt_classifier = DecisionTreeClassifier(\n",
        "    criterion='entropy',\n",
        "    splitter='best',\n",
        "    max_depth=5,\n",
        "    min_samples_split=2,\n",
        "    min_samples_leaf=2,\n",
        "    max_features='sqrt',\n",
        "    ccp_alpha=0.01,\n",
        "    random_state=0\n",
        ")\n",
        "dt_classifier.fit(X_train, y_train)\n",
        "dt_predictions = dt_classifier.predict(X_test)\n",
        "\n",
        "# b. Train a Random Forest Classifier\n",
        "# n_estimators=100 means it will build 100 decision trees.\n",
        "rf_classifier = RandomForestClassifier(n_estimators=100, random_state=42)\n",
        "rf_classifier.fit(X_train, y_train)\n",
        "rf_predictions = rf_classifier.predict(X_test)\n",
        "\n",
        "# c. Print the performance metrics for comparison\n",
        "print(\"\\nMetrics for Single Decision Tree:\")\n",
        "print(classification_report(y_test, dt_predictions))\n",
        "\n",
        "print(\"\\nMetrics for Random Forest (100 Trees):\")\n",
        "print(classification_report(y_test, rf_predictions))\n",
        "\n",
        "\n",
        "\n",
        "# print(\"\\n--- Exploring the Effect of n_estimators in Random Forest ---\")\n",
        "\n",
        "# # We will test a range of estimator numbers from 1 to 150\n",
        "# estimator_counts = range(1, 151)\n",
        "# accuracies = []\n",
        "\n",
        "# for count in estimator_counts:\n",
        "#     # Create and train a new RF model for each count\n",
        "#     temp_rf = RandomForestClassifier(n_estimators=count, random_state=42)\n",
        "#     temp_rf.fit(X_train, y_train)\n",
        "\n",
        "#     # Predict and calculate accuracy\n",
        "#     temp_predictions = temp_rf.predict(X_test)\n",
        "#     accuracy = accuracy_score(y_test, temp_predictions)\n",
        "#     accuracies.append(accuracy)\n",
        "\n",
        "# plt.figure(figsize=(10, 6))\n",
        "# plt.plot(estimator_counts, accuracies, marker='.', linestyle='-')\n",
        "# plt.title('Random Forest Accuracy vs. Number of Estimators')\n",
        "# plt.xlabel('Number of Estimators (Trees)')\n",
        "# plt.ylabel('Accuracy Score')\n",
        "# plt.grid(True)\n",
        "# plt.show()\n"
      ],
      "metadata": {
        "colab": {
          "base_uri": "https://localhost:8080/"
        },
        "id": "-fyqrTmTZeRg",
        "outputId": "46963f4d-5b2e-44a2-bc3b-902e45c84855"
      },
      "execution_count": 55,
      "outputs": [
        {
          "output_type": "stream",
          "name": "stdout",
          "text": [
            "--- Comparing Single Decision Tree vs. Random Forest ---\n",
            "\n",
            "Metrics for Single Decision Tree:\n",
            "              precision    recall  f1-score   support\n",
            "\n",
            "           0       0.66      0.72      0.69       131\n",
            "           1       0.65      0.59      0.62       119\n",
            "\n",
            "    accuracy                           0.66       250\n",
            "   macro avg       0.66      0.65      0.65       250\n",
            "weighted avg       0.66      0.66      0.65       250\n",
            "\n",
            "\n",
            "Metrics for Random Forest (100 Trees):\n",
            "              precision    recall  f1-score   support\n",
            "\n",
            "           0       0.86      0.91      0.88       131\n",
            "           1       0.89      0.84      0.87       119\n",
            "\n",
            "    accuracy                           0.88       250\n",
            "   macro avg       0.88      0.87      0.88       250\n",
            "weighted avg       0.88      0.88      0.88       250\n",
            "\n"
          ]
        }
      ]
    },
    {
      "cell_type": "code",
      "source": [
        "\n",
        "# inc with the n_estimater(no of decisions trees) increases the accuracy\n",
        "#so we conclude that with inc in no of n_estimater the res is increasing but at a value it's decreasing or same after a value"
      ],
      "metadata": {
        "id": "ODdBFBjVdc6R"
      },
      "execution_count": null,
      "outputs": []
    },
    {
      "cell_type": "code",
      "source": [
        "import numpy as np\n",
        "from sklearn.datasets import make_classification\n",
        "from sklearn.model_selection import train_test_split\n",
        "from sklearn.metrics import accuracy_score\n",
        "\n",
        "# Import the individual models\n",
        "from sklearn.linear_model import LogisticRegression\n",
        "from sklearn.neighbors import KNeighborsClassifier\n",
        "from sklearn.svm import SVC\n",
        "\n",
        "# --- 1. Dataset Preparation ---\n",
        "# Create a dataset with 3 classes, making it a non-trivial problem\n",
        "X, y = make_classification(\n",
        "    n_samples=1500,\n",
        "    n_features=20,\n",
        "    n_informative=10,\n",
        "    n_redundant=5,\n",
        "    n_classes=3,\n",
        "    random_state=42\n",
        ")\n",
        "\n",
        "# Split data into training and testing sets\n",
        "X_train, X_test, y_train, y_test = train_test_split(X, y, test_size=0.3, random_state=42)\n",
        "\n",
        "# --- 2. Train Individual Classifiers ---\n",
        "# We will use three diverse models for our ensemble\n",
        "model1 = LogisticRegression(random_state=42)\n",
        "model2 = KNeighborsClassifier(n_neighbors=5)\n",
        "model3 = SVC(probability=True, random_state=42) # probability=True is essential for soft voting\n",
        "\n",
        "# Fit the models on the training data\n",
        "model1.fit(X_train, y_train)\n",
        "model2.fit(X_train, y_train)\n",
        "model3.fit(X_train, y_train)\n",
        "\n",
        "# --- 3. Get Predictions from Individual Models ---\n",
        "# Get class predictions (for Max Voting)\n",
        "pred1 = model1.predict(X_test)\n",
        "pred2 = model2.predict(X_test)\n",
        "pred3 = model3.predict(X_test)\n",
        "\n",
        "# Get probability predictions (for Average and Weighted Voting)\n",
        "prob1 = model1.predict_proba(X_test)\n",
        "prob2 = model2.predict_proba(X_test)\n",
        "prob3 = model3.predict_proba(X_test)\n",
        "\n",
        "\n",
        "# a) Max Voting (Hard Voting)\n",
        "# We stack the predictions and find the mode (most frequent class) for each sample\n",
        "stacked_preds = np.array([pred1, pred2, pred3])\n",
        "max_voting_preds = np.apply_along_axis(lambda x: np.bincount(x).argmax(), axis=0, arr=stacked_preds)\n",
        "\n",
        "# b) Average Voting (Soft Voting)\n",
        "# We sum the probabilities from each model and choose the class with the highest average probability\n",
        "avg_probs = (prob1 + prob2 + prob3) / 3\n",
        "average_voting_preds = np.argmax(avg_probs, axis=1)\n",
        "\n",
        "# c) Weighted Average Voting\n",
        "# First, get the accuracy of each model on the training set to use as weights\n",
        "weight1 = accuracy_score(y_train, model1.predict(X_train))\n",
        "weight2 = accuracy_score(y_train, model2.predict(X_train))\n",
        "weight3 = accuracy_score(y_train, model3.predict(X_train))\n",
        "\n",
        "# Calculate the weighted average of probabilities\n",
        "weighted_probs = (weight1 * prob1 + weight2 * prob2 + weight3 * prob3)\n",
        "weighted_average_preds = np.argmax(weighted_probs, axis=1)\n",
        "\n",
        "# --- 5. Compare Results ---\n",
        "print(\"--- Performance of Individual Models ---\")\n",
        "print(f\"Logistic Regression Accuracy: {accuracy_score(y_test, pred1):.4f}\")\n",
        "print(f\"K-Nearest Neighbors Accuracy: {accuracy_score(y_test, pred2):.4f}\")\n",
        "print(f\"Support Vector Machine Accuracy: {accuracy_score(y_test, pred3):.4f}\")\n",
        "\n",
        "print(\"\\n--- Performance of Ensemble Techniques ---\")\n",
        "print(f\"Max Voting Accuracy: {accuracy_score(y_test, max_voting_preds):.4f}\")\n",
        "print(f\"Average Voting Accuracy: {accuracy_score(y_test, average_voting_preds):.4f}\")\n",
        "print(f\"Weighted Average Voting Accuracy: {accuracy_score(y_test, weighted_average_preds):.4f}\")\n",
        "\n",
        "print(\"\\nWeights used for Weighted Average Voting:\")\n",
        "print(f\"LR Weight: {weight1:.4f}, KNN Weight: {weight2:.4f}, SVC Weight: {weight3:.4f}\")"
      ],
      "metadata": {
        "colab": {
          "base_uri": "https://localhost:8080/"
        },
        "id": "VjSC_WnUiffu",
        "outputId": "59de9d1b-47eb-4459-d674-e469a8cf2818"
      },
      "execution_count": 60,
      "outputs": [
        {
          "output_type": "stream",
          "name": "stdout",
          "text": [
            "--- Performance of Individual Models ---\n",
            "Logistic Regression Accuracy: 0.6844\n",
            "K-Nearest Neighbors Accuracy: 0.8311\n",
            "Support Vector Machine Accuracy: 0.8533\n",
            "\n",
            "--- Performance of Ensemble Techniques ---\n",
            "Max Voting Accuracy: 0.8400\n",
            "Average Voting Accuracy: 0.8356\n",
            "Weighted Average Voting Accuracy: 0.8422\n",
            "\n",
            "Weights used for Weighted Average Voting:\n",
            "LR Weight: 0.6990, KNN Weight: 0.8895, SVC Weight: 0.9076\n"
          ]
        }
      ]
    },
    {
      "cell_type": "code",
      "source": [
        "import numpy as np\n",
        "import matplotlib.pyplot as plt\n",
        "from sklearn.datasets import load_breast_cancer # <-- Updated import\n",
        "from sklearn.model_selection import train_test_split\n",
        "from sklearn.ensemble import RandomForestClassifier\n",
        "from sklearn.metrics import accuracy_score\n",
        "\n",
        "#  Dataset Preparation ---\n",
        "# Using the real-world Breast Cancer dataset as requested\n",
        "data = load_breast_cancer()\n",
        "X = data.data\n",
        "y = data.target\n",
        "\n",
        "# Split data into training and testing sets\n",
        "X_train, X_test, y_train, y_test = train_test_split(X, y, test_size=0.3, random_state=42)\n",
        "\n",
        "#  Baseline Model Performance ---\n",
        "print(\"--- Baseline Model ---\")\n",
        "baseline_rf = RandomForestClassifier(random_state=42)\n",
        "baseline_rf.fit(X_train, y_train)\n",
        "baseline_preds = baseline_rf.predict(X_test)\n",
        "print(f\"Baseline Accuracy: {accuracy_score(y_test, baseline_preds):.4f}\")\n",
        "print(\"-\" * 25 + \"\\n\")\n",
        "\n",
        "\n",
        "# : Effect of Number of Estimators (n_estimators) ---\n",
        "print(\"---  Varying Number of Estimators ---\")\n",
        "estimator_range = [1, 5, 10, 25, 50, 75, 100, 150, 200]\n",
        "accuracies_estimators = []\n",
        "\n",
        "for n in estimator_range:\n",
        "    rf = RandomForestClassifier(n_estimators=n, random_state=42)\n",
        "    rf.fit(X_train, y_train)\n",
        "    preds = rf.predict(X_test)\n",
        "    accuracies_estimators.append(accuracy_score(y_test, preds))\n",
        "\n",
        "# Plotting the results\n",
        "plt.figure(figsize=(10, 6))\n",
        "plt.plot(estimator_range, accuracies_estimators, marker='o', linestyle='--')\n",
        "plt.title('Accuracy vs. Number of Estimators')\n",
        "plt.xlabel('Number of Estimators (Trees)')\n",
        "plt.ylabel('Accuracy Score')\n",
        "plt.grid(True)\n",
        "plt.show()\n",
        "\n",
        "\n",
        "print(\"\\n--- Varying Maximum Depth ---\")\n",
        "depth_range = [2, 4, 6, 8, 10, 15, 20, 30, None] # None means nodes are expanded until pure\n",
        "accuracies_depth = []\n",
        "\n",
        "for depth in depth_range:\n",
        "    # Using 100 estimators as a standard base\n",
        "    rf = RandomForestClassifier(n_estimators=100, max_depth=depth, random_state=42)\n",
        "    rf.fit(X_train, y_train)\n",
        "    preds = rf.predict(X_test)\n",
        "    accuracies_depth.append(accuracy_score(y_test, preds))\n",
        "\n",
        "# Plotting the results\n",
        "plt.figure(figsize=(10, 6))\n",
        "# Using strings for the x-axis to handle the 'None' case nicely\n",
        "depth_labels = [str(d) for d in depth_range]\n",
        "plt.plot(depth_labels, accuracies_depth, marker='o', linestyle='--')\n",
        "plt.title('Accuracy vs. Maximum Depth of Trees')\n",
        "plt.xlabel('Maximum Depth')\n",
        "plt.ylabel('Accuracy Score')\n",
        "plt.grid(True)\n",
        "plt.show()\n",
        "\n",
        "arr=[40,32,50]\n",
        "\n",
        "print(\"\\nMultiple runs WITH a diff bultin random_state :\")\n",
        "for i in range(3):\n",
        "    rf_with_state = RandomForestClassifier(n_estimators=50, random_state=arr[i])\n",
        "    rf_with_state.fit(X_train, y_train)\n",
        "    preds = rf_with_state.predict(X_test)\n",
        "    print(f\"  Run {i+1} Accuracy: {accuracy_score(y_test, preds):.4f}\")\n",
        "\n",
        "#  Without a fixed random_state\n",
        "print(\"Multiple runs WITHOUT a fixed random_state:\")\n",
        "for i in range(3):\n",
        "    rf_no_state = RandomForestClassifier(n_estimators=50) # Smaller n_estimators to show variability\n",
        "    rf_no_state.fit(X_train, y_train)\n",
        "    preds = rf_no_state.predict(X_test)\n",
        "    print(f\"  Run {i+1} Accuracy: {accuracy_score(y_test, preds):.4f}\")\n",
        "\n",
        "#  With a fixed random_state\n",
        "print(\"\\nMultiple runs WITH a fixed random_state (42):\")\n",
        "for i in range(3):\n",
        "    rf_with_state = RandomForestClassifier(n_estimators=50, random_state=42)\n",
        "    rf_with_state.fit(X_train, y_train)\n",
        "    preds = rf_with_state.predict(X_test)\n",
        "    print(f\"  Run {i+1} Accuracy: {accuracy_score(y_test, preds):.4f}\")"
      ],
      "metadata": {
        "colab": {
          "base_uri": "https://localhost:8080/",
          "height": 1000
        },
        "id": "ROhj3GKFkCd0",
        "outputId": "5f055edd-b932-4a29-a8f3-054bfbac0f16"
      },
      "execution_count": 65,
      "outputs": [
        {
          "output_type": "stream",
          "name": "stdout",
          "text": [
            "--- Baseline Model ---\n",
            "Baseline Accuracy: 0.9708\n",
            "-------------------------\n",
            "\n",
            "---  Varying Number of Estimators ---\n"
          ]
        },
        {
          "output_type": "display_data",
          "data": {
            "text/plain": [
              "<Figure size 1000x600 with 1 Axes>"
            ],
            "image/png": "[encoded data removed]"
          },
          "metadata": {}
        },
        {
          "output_type": "stream",
          "name": "stdout",
          "text": [
            "\n",
            "--- Varying Maximum Depth ---\n"
          ]
        },
        {
          "output_type": "display_data",
          "data": {
            "text/plain": [
              "<Figure size 1000x600 with 1 Axes>"
            ],
            "image/png": "[encoded data removed]"
          },
          "metadata": {}
        },
        {
          "output_type": "stream",
          "name": "stdout",
          "text": [
            "\n",
            "Multiple runs WITH a diff bultin random_state :\n",
            "  Run 1 Accuracy: 0.9708\n",
            "  Run 2 Accuracy: 0.9766\n",
            "  Run 3 Accuracy: 0.9649\n",
            "Multiple runs WITHOUT a fixed random_state:\n",
            "  Run 1 Accuracy: 0.9708\n",
            "  Run 2 Accuracy: 0.9649\n",
            "  Run 3 Accuracy: 0.9766\n",
            "\n",
            "Multiple runs WITH a fixed random_state (42):\n",
            "  Run 1 Accuracy: 0.9708\n",
            "  Run 2 Accuracy: 0.9708\n",
            "  Run 3 Accuracy: 0.9708\n"
          ]
        }
      ]
    },
    {
      "cell_type": "code",
      "source": [
        "# change in"
      ],
      "metadata": {
        "id": "_itSW8eDkj1T"
      },
      "execution_count": null,
      "outputs": []
    },
    {
      "cell_type": "markdown",
      "source": [
        "\n",
        "* **Significance**: The OOB score is a reliable, built-in estimate of how well your model will perform on **new, unseen data**. It serves as an internal validation score.\n"
      ],
      "metadata": {
        "id": "meQJxjJvnQEf"
      }
    },
    {
      "cell_type": "code",
      "source": [
        "import numpy as np\n",
        "from sklearn.datasets import make_regression\n",
        "from sklearn.model_selection import train_test_split\n",
        "from sklearn.ensemble import RandomForestRegressor\n",
        "from sklearn.metrics import r2_score\n",
        "\n",
        "# --- 1. Dataset Preparation ---\n",
        "# Create a synthetic dataset suitable for a regression task.\n",
        "X, y = make_regression(\n",
        "    n_samples=500,\n",
        "    n_features=20,\n",
        "    n_informative=10,\n",
        "    random_state=42\n",
        ")\n",
        "\n",
        "# Split data into training and testing sets\n",
        "X_train, X_test, y_train, y_test = train_test_split(X, y, test_size=0.25, random_state=42)\n",
        "\n",
        "\n",
        "rf_regressor = RandomForestRegressor(\n",
        "    n_estimators=100,\n",
        "    oob_score=True, # <-- This enables the OOB score calculation\n",
        "    random_state=42\n",
        ")\n",
        "\n",
        "# Train the model on the training data\n",
        "rf_regressor.fit(X_train, y_train)\n",
        "\n",
        "\n",
        "#  Observe and Interpret the Results ---\n",
        "\n",
        "# a) Get the OOB Score\n",
        "\n",
        "oob_score = rf_regressor.oob_score_\n",
        "print(f\"Out-of-Bag (OOB) Score: {oob_score:.4f}\")\n",
        "\n",
        "test_predictions = rf_regressor.predict(X_test)\n",
        "\n",
        "# Calculate the R-squared score on the test set\n",
        "test_r2_score = r2_score(y_test, test_predictions)\n",
        "print(f\"Test Set R-squared Score: {test_r2_score:.4f}\")"
      ],
      "metadata": {
        "colab": {
          "base_uri": "https://localhost:8080/"
        },
        "id": "g5h1fdWlnFho",
        "outputId": "77a30bcf-8cfd-4b56-8f50-4732cae447a3"
      },
      "execution_count": 66,
      "outputs": [
        {
          "output_type": "stream",
          "name": "stdout",
          "text": [
            "Out-of-Bag (OOB) Score: 0.7448\n",
            "Test Set R-squared Score: 0.7571\n"
          ]
        }
      ]
    },
    {
      "cell_type": "markdown",
      "source": [],
      "metadata": {
        "id": "8mGaklOfkjFz"
      }
    }
  ]
}